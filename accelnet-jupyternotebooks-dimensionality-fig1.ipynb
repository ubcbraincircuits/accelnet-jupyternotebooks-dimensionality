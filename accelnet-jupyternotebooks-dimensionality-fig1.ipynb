{
 "cells": [
  {
   "cell_type": "markdown",
   "id": "02588696",
   "metadata": {},
   "source": [
    "# Reproducing Figure 1 from \"A Scale-Dependent Measure of System Dimensionality\"\n",
    "\n",
    "## Introduction\n",
    "\n",
    "Complex systems, such as the brain neural system, are often characterized by a number of latent variables which is known as the dimensionality of a system. The correlation dimension and participation ratio quanitfy the dimensionality of such complex and dynamic systems locally and globally as can be observed by the executing the script below.\n",
    "\n",
    "This script allows you to reproduce the results shown in figure 1 of the AccelNet paper on \"A Scale-dependent Measure of System Dimensionality.\"\n",
    "\n",
    "Please note that we have created a separate .py file consisting of the functions which are used throughout the code.\n",
    "\n",
    "<div>\n",
    "<img src=\"https://pbs.twimg.com/profile_images/1133961932950532096/15M5Fvdy_400x400.png\" width=\"200\" height=\"200\"/>\n",
    "</div>"
   ]
  },
  {
   "cell_type": "markdown",
   "id": "2368aa8e",
   "metadata": {},
   "source": [
    "<div>\n",
    "<img src=\"https://cneuro-web01.s.uw.edu/wordpress/wp-content/uploads/2018/06/CNC-full-color-e1528133123627.png\" width=\"242\" height=\"83\"/>\n",
    "</div>\n",
    "\n",
    "<div>\n",
    "<img src=\"https://uw-s3-cdn.s3.us-west-2.amazonaws.com/wp-content/uploads/sites/98/2014/10/07214222/Signature_Center_Gold_RGB.png\" width=\"242\" height=\"83\"/>\n",
    "</div>"
   ]
  },
  {
   "cell_type": "markdown",
   "id": "e69186f0",
   "metadata": {},
   "source": [
    "The following code segment imports the required packages in order to be able to run the code and reproduce the figures. Please note that the import accelnetfunctions line allows you to import and make use of critical functions to reproduce the images shown in figure 1 of the paper."
   ]
  },
  {
   "cell_type": "code",
   "execution_count": null,
   "id": "d7659e88",
   "metadata": {},
   "outputs": [],
   "source": [
    "import numpy as np\n",
    "import pandas as pd\n",
    "import scipy\n",
    "import seaborn as sns\n",
    "import matplotlib.pyplot as plt\n",
    "import sklearn.metrics as sklm\n",
    "import matplotlib as mpl\n",
    "mpl.rc('image', cmap='Paired')\n",
    "import scipy.stats as stats\n",
    "from scipy.special import zeta as zeta\n",
    "#import tensorflow as tf\n",
    "from sklearn.decomposition import PCA\n",
    "import random\n",
    "import matplotlib.colors as colors\n",
    "import matplotlib.cm as cmx\n",
    "jet = cm = plt.get_cmap('Paired')\n",
    "cNorm  = colors.Normalize(vmin=0, vmax=12)\n",
    "cMap = cmx.ScalarMappable(norm=cNorm, cmap=jet)\n",
    "\n",
    "from matplotlib.colors import ListedColormap\n",
    "\n",
    "\n",
    "import accelnetfunctions"
   ]
  },
  {
   "cell_type": "markdown",
   "id": "4b4522cf",
   "metadata": {},
   "source": [
    "The following code segment enables you to graph the Lorenz attractor without considering the noise levels. Please note that the preprint uses 10,000 points which you may or may not be able to run the following code with depending on the tool you use (as documented below). The segment below performs analysis on the spiral."
   ]
  },
  {
   "cell_type": "code",
   "execution_count": null,
   "id": "3e1659c8",
   "metadata": {},
   "outputs": [],
   "source": [
    "#N_points = 10000 #used in the preprint\n",
    "#N_points = 10000 #tested on standard google colab\n",
    "#N_points = 1000 #enough for a quick test\n",
    "N_points = 5000 #works on syzygy.ca\n",
    "x = accelnetfunctions.dataset_lorenz(N_points)\n",
    "dists_matrix = sklm.pairwise_distances(x, n_jobs = -1)\n",
    "dists = dists_matrix[np.triu_indices_from(dists_matrix, k=1)]\n",
    "dists = dists[dists > 0]"
   ]
  },
  {
   "cell_type": "markdown",
   "id": "db18690c",
   "metadata": {},
   "source": [
    "The segment below produces a plot of the Lorenz attractor without noise."
   ]
  },
  {
   "cell_type": "code",
   "execution_count": null,
   "id": "b0ab6eb5",
   "metadata": {},
   "outputs": [],
   "source": [
    "fig = plt.figure()\n",
    "N_points = 1000\n",
    "plt.scatter(x[:N_points,0], x[:N_points,1], s=3, c='black', marker='o', rasterized=True)\n",
    "plt.savefig('SpiralExampleNoNoise.pdf')\n",
    "plt.savefig('SpiralExampleNoNoise.svg')\n",
    "plt.show()"
   ]
  },
  {
   "cell_type": "markdown",
   "id": "1a5d273c",
   "metadata": {},
   "source": [
    "The following code segment below performs analysis of the spiral with consideration of local noise levels."
   ]
  },
  {
   "cell_type": "code",
   "execution_count": null,
   "id": "88b10c38",
   "metadata": {},
   "outputs": [],
   "source": [
    "#N_points = 10000 #used in the preprint\n",
    "#N_points = 10000 #tested on standard google colab\n",
    "#N_points = 1000 #enough for a quick test\n",
    "N_points = 5000 #works on syzygy.ca\n",
    "x = accelnetfunctions.dataset_spiral(N_points, .1)\n",
    "dists_matrix = sklm.pairwise_distances(x, n_jobs = -1)\n",
    "dists = dists_matrix[np.triu_indices_from(dists_matrix, k=1)]\n",
    "dists = dists[dists > 0]"
   ]
  },
  {
   "cell_type": "markdown",
   "id": "22d0980c",
   "metadata": {},
   "source": [
    "The following code segment allows you to plot the spiral shape of the Lorenz attractor with consideration of local noise levels."
   ]
  },
  {
   "cell_type": "code",
   "execution_count": null,
   "id": "830e1169",
   "metadata": {},
   "outputs": [],
   "source": [
    "fig = plt.figure()\n",
    "N_points = 500000\n",
    "plt.scatter(x[:N_points,0], x[:N_points,1], s=3, c='black', marker='o', rasterized=True)\n",
    "plt.savefig('NoisySpiralExample.pdf')\n",
    "plt.savefig('NoisySpiralExample.svg')\n",
    "plt.show()"
   ]
  },
  {
   "cell_type": "markdown",
   "id": "20398015",
   "metadata": {},
   "source": [
    "The following code segment performs a correlation dimension analysis. The shape of the graph shows how the correlation dimension approaches 0 on a larger scale. The correlation dimension is determined from scaling the number of pair of data points with a separation of less than r as r approaches 0. The correlation dimension is accurate to use for small scales, but it approaches a value of 0 on larger scales."
   ]
  },
  {
   "cell_type": "code",
   "execution_count": null,
   "id": "65dcf272",
   "metadata": {},
   "outputs": [],
   "source": [
    "scales = accelnetfunctions.scalelog(dists, dists=True, Npoints=100)\n",
    "Dcorr, logmidpoints = accelnetfunctions.boot_dim_corr(dists_matrix, scales, boot_pcg=0.8, N_bootstrap=2)\n",
    "Dcorrmean = np.nanmean(Dcorr, axis = 0)\n",
    "Dcorrstd = np.nanstd(Dcorr, axis = 0)\n",
    "plt.plot(logmidpoints[:], Dcorrmean[:])\n",
    "# plt.scatter(logmidpoints[:], Dcorrmean[:])\n",
    "plt.fill_between(logmidpoints, Dcorrmean - Dcorrstd, Dcorrmean + Dcorrstd, color='gray', alpha=0.2)\n",
    "plt.xlabel('log scale')\n",
    "plt.ylabel('corr dim')\n",
    "# plt.xlim([-5,1])\n",
    "plt.ylim([0,3.])\n",
    "plt.savefig('SpiralExampleCorrDim.pdf')\n",
    "plt.savefig('SpiralExampleCorrDim.svg')\n",
    "plt.show()"
   ]
  },
  {
   "cell_type": "markdown",
   "id": "01d4a775",
   "metadata": {},
   "source": [
    "The following code segment performs a participation ratio analysis. The shape of the graph shows that the participation ratio remains an accurate representation of the dimensionality of the system as we look at larger scales. The participation ratio counts the effective dimensions of the spread of data by taking the ratio of the square of the first and second moments of the eigenvalue probability density function. The number of effective dimensions interpolates to the participation ratio globally; it intuitively makes sense in dynamic systems such as the Lorenz attractor (which is what we perform our analysis on in our execution of the code segment below). Therefore, we can use this value to increase our understanding of the dimensionality of complex neural systems."
   ]
  },
  {
   "cell_type": "code",
   "execution_count": null,
   "id": "e4efe980",
   "metadata": {},
   "outputs": [],
   "source": [
    "PRs, Scales = accelnetfunctions.boot_dim_pr(x, dists_matrix, scales, N_points=1000, N_maxiters=10000, C_minsize=50)\n",
    "PRmean =  np.mean(PRs, axis=1)\n",
    "plt.plot(np.log(scales), PRmean)\n",
    "# iql = scipy.stats.iqr(PRs, axis=1, rng=(34,50), nan_policy='omit')\n",
    "# iqu = scipy.stats.iqr(PRs, axis=1, rng=(50,66), nan_policy='omit')\n",
    "# plt.fill_between(np.log(sigma_space), PRmean - iql, PRmean + iqu, color='gray', alpha=0.2)\n",
    "PRste = np.nanstd(PRs, axis=1) #/ np.sqrt(N_points)\n",
    "plt.fill_between(np.log(scales), PRmean - PRste, PRmean + PRste, color='gray', alpha=0.2)\n",
    "plt.xlabel('log scale')\n",
    "plt.ylabel('PR dim')\n",
    "plt.ylim([0,3.])\n",
    "aplt.savefig('SpiralExamplePR.pdf')\n",
    "plt.show()"
   ]
  }
 ],
 "metadata": {
  "kernelspec": {
   "display_name": "Python 3 (ipykernel)",
   "language": "python",
   "name": "python3"
  },
  "language_info": {
   "codemirror_mode": {
    "name": "ipython",
    "version": 3
   },
   "file_extension": ".py",
   "mimetype": "text/x-python",
   "name": "python",
   "nbconvert_exporter": "python",
   "pygments_lexer": "ipython3",
   "version": "3.9.10"
  }
 },
 "nbformat": 4,
 "nbformat_minor": 5
}
